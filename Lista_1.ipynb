{
  "nbformat": 4,
  "nbformat_minor": 0,
  "metadata": {
    "colab": {
      "provenance": [],
      "include_colab_link": true
    },
    "kernelspec": {
      "name": "python3",
      "display_name": "Python 3"
    },
    "language_info": {
      "name": "python"
    }
  },
  "cells": [
    {
      "cell_type": "markdown",
      "metadata": {
        "id": "view-in-github",
        "colab_type": "text"
      },
      "source": [
        "<a href=\"https://colab.research.google.com/github/Paola-Contreras/Chat-SISTOS/blob/main/Lista_1.ipynb\" target=\"_parent\"><img src=\"https://colab.research.google.com/assets/colab-badge.svg\" alt=\"Open In Colab\"/></a>"
      ]
    },
    {
      "cell_type": "markdown",
      "source": [
        "# Laboratorio No.1\n",
        "- Diego Cordova 20212\n",
        "- Paola de León 20361\n",
        "- Gabriela Contreras 20213"
      ],
      "metadata": {
        "id": "UOHeF0-pzbcf"
      }
    },
    {
      "cell_type": "markdown",
      "source": [
        "**OpenCV**\n",
        "- Lectura de imagenes\n",
        "- Convertir a Array de numpy & revertir\n",
        "- Almacenamiento de imagenes en memoria\n",
        "- Guardar imagenes a disco duro\n",
        "\n",
        "**PIL**\n",
        "- Lectura de imagenes\n",
        "- Convertir a Array de numpy & revertir\n",
        "- Almacenamiento de imagenes en memoria\n",
        "- Guardar imagenes a disco duro\n",
        "\n",
        "**Matplotlib**\n",
        "- Guardar imagenes a disco duro"
      ],
      "metadata": {
        "id": "X39bb3rvzx82"
      }
    },
    {
      "cell_type": "code",
      "execution_count": null,
      "metadata": {
        "id": "IcqzdB2H-0y8"
      },
      "outputs": [],
      "source": []
    }
  ]
}